{
  "nbformat": 4,
  "nbformat_minor": 0,
  "metadata": {
    "colab": {
      "name": "Poisson Part 1.ipynb",
      "provenance": [],
      "authorship_tag": "ABX9TyMdma/DwlCrESUnw0FCoeXM",
      "include_colab_link": true
    },
    "kernelspec": {
      "name": "python3",
      "display_name": "Python 3"
    }
  },
  "cells": [
    {
      "cell_type": "markdown",
      "metadata": {
        "id": "view-in-github",
        "colab_type": "text"
      },
      "source": [
        "<a href=\"https://colab.research.google.com/github/5quark/Poisson-statistics/blob/master/Poisson_Part_1.ipynb\" target=\"_parent\"><img src=\"https://colab.research.google.com/assets/colab-badge.svg\" alt=\"Open In Colab\"/></a>"
      ]
    },
    {
      "cell_type": "markdown",
      "metadata": {
        "id": "rejg_9aa9M4c",
        "colab_type": "text"
      },
      "source": [
        "For this report we collected data and put into 2 seperate excel files, one column each. Here i extract data from excel file to a list:"
      ]
    },
    {
      "cell_type": "code",
      "metadata": {
        "id": "4bhgYurfs28m",
        "colab_type": "code",
        "colab": {
          "base_uri": "https://localhost:8080/",
          "height": 204
        },
        "outputId": "58e182dc-ff9a-4de1-c1d5-b3ad25c89120"
      },
      "source": [
        "import pandas as pd\n",
        "import numpy as np\n",
        "\n",
        "data_frame= pd.read_excel(\"10Sec.xlsx\")\n",
        "#this is a one column Pandas Data Frame, i will transform it to a list by:\n",
        "data_10sec=data_frame[\"10Sec\"].to_numpy()\n",
        "print(data_10sec)\n",
        "\n",
        "#same for the 1 sec \n",
        "data_frame1= pd.read_excel(\"1sec.xlsx\")\n",
        "#this is a one column Pandas Data Frame, i will transform it to a list by:\n",
        "data_1sec=data_frame1[\"1sec\"].to_numpy()\n",
        "print(data_1sec)"
      ],
      "execution_count": 3,
      "outputs": [
        {
          "output_type": "stream",
          "text": [
            "[ 98 104 101  83  95  69 108  98 110  88  94 123  85 100 102 103  99  96\n",
            "  98  88  88 105  79  91  89  86 101  86  91  99 104 111  91  99 122 117\n",
            "  90 102 113 101  95 101  94  95  90  79  90  95 109  93  87 106 120  91\n",
            " 107  97 117 124 100 110  94  97  95  89  95 120 109  87  95  88 100 102\n",
            "  96 101  91 102 112  76 116  89 101 102  84 112 106  93 105  99 105 105\n",
            " 114  96  87  95 100  77  92  91 107  95]\n",
            "[ 9 12  8  2 14 12 11 15  4 15  6 10 13  7  9  8 17  9  8 11 12 10  8 12\n",
            " 10 11 11 10 13  7 10 10  9  6 11 10  9  6  8  9 10  7  8 15  6  8  6 10\n",
            " 12 10  9  3 11  6 10  4 11 17  9 10  9 13 13 10  8  7  9 10  5 12  8 10\n",
            "  5 13  5  9 13  8  7  9 13 13 20 14  7 16  8  9 12 10  8  7 13 10 13 11\n",
            "  9 11  8  8]\n"
          ],
          "name": "stdout"
        }
      ]
    },
    {
      "cell_type": "markdown",
      "metadata": {
        "id": "AVqbui50-K5H",
        "colab_type": "text"
      },
      "source": [
        "Now that i have my data in a proper format i can start performing my calculations on them:"
      ]
    },
    {
      "cell_type": "code",
      "metadata": {
        "id": "BX4ndbT7t5QW",
        "colab_type": "code",
        "colab": {
          "base_uri": "https://localhost:8080/",
          "height": 204
        },
        "outputId": "d280c0f3-2ff2-4e7c-acc4-13502ddba806"
      },
      "source": [
        "data_10sec_sorted=np.sort(data_10sec)\n",
        "print(data_10sec_sorted)\n",
        "\n",
        "#for 1 sec\n",
        "data_1sec_sorted=np.sort(data_1sec)\n",
        "print(data_1sec_sorted)"
      ],
      "execution_count": 4,
      "outputs": [
        {
          "output_type": "stream",
          "text": [
            "[ 69  76  77  79  79  83  84  85  86  86  87  87  87  88  88  88  88  89\n",
            "  89  89  90  90  90  91  91  91  91  91  91  92  93  93  94  94  94  95\n",
            "  95  95  95  95  95  95  95  95  96  96  96  97  97  98  98  98  99  99\n",
            "  99  99 100 100 100 100 101 101 101 101 101 101 102 102 102 102 102 103\n",
            " 104 104 105 105 105 105 106 106 107 107 108 109 109 110 110 111 112 112\n",
            " 113 114 116 117 117 120 120 122 123 124]\n",
            "[ 2  3  4  4  5  5  5  6  6  6  6  6  6  7  7  7  7  7  7  7  8  8  8  8\n",
            "  8  8  8  8  8  8  8  8  8  8  9  9  9  9  9  9  9  9  9  9  9  9  9  9\n",
            " 10 10 10 10 10 10 10 10 10 10 10 10 10 10 10 10 10 11 11 11 11 11 11 11\n",
            " 11 11 12 12 12 12 12 12 12 13 13 13 13 13 13 13 13 13 13 14 14 15 15 15\n",
            " 16 17 17 20]\n"
          ],
          "name": "stdout"
        }
      ]
    },
    {
      "cell_type": "markdown",
      "metadata": {
        "id": "AJ2h77bUAXIQ",
        "colab_type": "text"
      },
      "source": [
        "Here we see that the smallest point is in  60s and the largest in 120s. So we can use a histogram with 7 bins to show the data. \n",
        "For the 1 sec data we see that data points are closer to each other. Let's make 10 bins for this one. \n",
        "\n"
      ]
    },
    {
      "cell_type": "code",
      "metadata": {
        "id": "pIg5JiDnBGor",
        "colab_type": "code",
        "colab": {
          "base_uri": "https://localhost:8080/",
          "height": 119
        },
        "outputId": "e51e283d-ef6f-4a56-9a33-c3ff90ac80e8"
      },
      "source": [
        "#10 second data\n",
        "hist_y_10s=[]\n",
        "list10=[60,70,80,90,100,110,120]\n",
        "for i in list10:\n",
        "    hist_y_10s.append(np.sum((i-1<data_10sec) & (data_10sec<i+10))) #find the number of elements satisfying a certain condition, 59<x<70\n",
        "print(hist_y_10s)\n",
        "#and the errors for poisson can be taken as square root\n",
        "hist_y_error_10s=np.sqrt(hist_y_10s)\n",
        "print(hist_y_error_10s)\n",
        "\n",
        "\n",
        "#1second data\n",
        "hist_y_1s=[]\n",
        "list1=[*range(2,22,2)]\n",
        "for i in list1:\n",
        "    hist_y_1s.append(np.sum((i-1<data_1sec) & (data_1sec<i+10))) #find the number of elements satisfying a certain condition, 59<x<70\n",
        "print(hist_y_1s)\n",
        "#and the errors for poisson can be taken as square root\n",
        "hist_y_error_1s=np.sqrt(hist_y_1s)\n",
        "print(hist_y_error_1s)\n",
        "\n",
        "\n"
      ],
      "execution_count": 5,
      "outputs": [
        {
          "output_type": "stream",
          "text": [
            "[1, 4, 15, 36, 29, 10, 5]\n",
            "[1.         2.         3.87298335 6.         5.38516481 3.16227766\n",
            " 2.23606798]\n",
            "[74, 89, 89, 79, 51, 26, 9, 4, 1, 1]\n",
            "[8.60232527 9.43398113 9.43398113 8.88819442 7.14142843 5.09901951\n",
            " 3.         2.         1.         1.        ]\n"
          ],
          "name": "stdout"
        }
      ]
    },
    {
      "cell_type": "markdown",
      "metadata": {
        "id": "IJGSQvHahbeh",
        "colab_type": "text"
      },
      "source": [
        "Now that we have all the information we need we can plot them:"
      ]
    },
    {
      "cell_type": "code",
      "metadata": {
        "id": "K3yvnVNphghj",
        "colab_type": "code",
        "colab": {
          "base_uri": "https://localhost:8080/",
          "height": 296
        },
        "outputId": "6ab8baba-7f5b-40e7-dbc3-a39eb487a0e2"
      },
      "source": [
        "import matplotlib.pyplot as plt\n",
        "plt.bar(list10,hist_y_10s,width=10,yerr=hist_y_error_10s,edgecolor=\"black\")\n",
        "plt.yticks(hist_y_10s)\n",
        "plt.xlabel(\"Number of Counts in 10 seconds\")\n",
        "plt.ylabel(\"Repetation of Number of Counts\")"
      ],
      "execution_count": 6,
      "outputs": [
        {
          "output_type": "execute_result",
          "data": {
            "text/plain": [
              "Text(0, 0.5, 'Repetation of Number of Counts')"
            ]
          },
          "metadata": {
            "tags": []
          },
          "execution_count": 6
        },
        {
          "output_type": "display_data",
          "data": {
            "image/png": "[encoded data removed]",
            "text/plain": [
              "<Figure size 432x288 with 1 Axes>"
            ]
          },
          "metadata": {
            "tags": [],
            "needs_background": "light"
          }
        }
      ]
    },
    {
      "cell_type": "markdown",
      "metadata": {
        "id": "dGzJzVBjxk6K",
        "colab_type": "text"
      },
      "source": [
        "Now i can continue and find the standard deviation $$\\sigma=\\sqrt{\\frac{\\sum{(X-\\mu)^2}}{n}}$$\n"
      ]
    },
    {
      "cell_type": "code",
      "metadata": {
        "id": "ho5LB_NKy2qc",
        "colab_type": "code",
        "colab": {
          "base_uri": "https://localhost:8080/",
          "height": 51
        },
        "outputId": "28ec43d4-b264-4dcf-f365-e5594a6fa1d1"
      },
      "source": [
        "#mean\n",
        "count10=0\n",
        "total_10=0\n",
        "for i in range(len(hist_y_10s)):\n",
        "    count10+=hist_y_10s[i]\n",
        "    total_10+=hist_y_10s[i]*list10[i]\n",
        "mean_10=total_10/count10\n",
        "print(\"mean is:\", mean_10)\n",
        "#std\n",
        "from math import sqrt\n",
        "b=sum((hist_y_10s-mean_10)**2)\n",
        "sigma_10s=sqrt(b/7)\n",
        "print(\"Standard deviation is:\", sigma_10s)\n"
      ],
      "execution_count": 7,
      "outputs": [
        {
          "output_type": "stream",
          "text": [
            "mean is: 93.8\n",
            "Standard deviation is: 80.47455675997405\n"
          ],
          "name": "stdout"
        }
      ]
    },
    {
      "cell_type": "markdown",
      "metadata": {
        "id": "q7TBIpne-0FF",
        "colab_type": "text"
      },
      "source": [
        "Now we have standard deviation and the mean. We can fit a gaussian on to the previous bar graph.\n",
        "$$Gaussian(x)=\\frac{\\exp(\\frac{-1}{2}(\\frac{x-\\mu}{\\sigma}))}{\\sigma.\\sqrt{2\\pi}}$$"
      ]
    },
    {
      "cell_type": "code",
      "metadata": {
        "id": "PRl2jKX8ijd2",
        "colab_type": "code",
        "colab": {
          "base_uri": "https://localhost:8080/",
          "height": 282
        },
        "outputId": "1fa3dc00-8e1d-4ad6-f3d8-87e513be34b2"
      },
      "source": [
        "\n",
        "from scipy.optimize import curve_fit\n",
        "from math import pi\n",
        "def gauss(x,a,mu,sigma):\n",
        "    return a*np.exp(-(x-mu)**2/(sigma)**2)/2*sigma*sqrt(2*pi)\n",
        "popt,pcov=curve_fit(gauss,list10,hist_y_10s,p0=[1,mean_10,sigma_10s])\n",
        "x_fit=np.arange(60,130,1)\n",
        "plt.plot(x_fit,gauss(x_fit,*popt))\n",
        "plt.plot(list10,hist_y_10s,\"ok\")\n",
        "print(\"Mean of the distribution is \",popt[1],\"and standard deviation is \", popt[2],\"also the constant multiple is:\",popt[0])"
      ],
      "execution_count": 8,
      "outputs": [
        {
          "output_type": "stream",
          "text": [
            "Mean of the distribution is  93.30838496981175 and standard deviation is  14.822823919682682 also the constant multiple is: 1.9690345523551216\n"
          ],
          "name": "stdout"
        },
        {
          "output_type": "display_data",
          "data": {
            "image/png": "[encoded data removed]",
            "text/plain": [
              "<Figure size 432x288 with 1 Axes>"
            ]
          },
          "metadata": {
            "tags": [],
            "needs_background": "light"
          }
        }
      ]
    },
    {
      "cell_type": "markdown",
      "metadata": {
        "id": "-PJalZcdrOKy",
        "colab_type": "text"
      },
      "source": [
        "Poisson distribution is:\n",
        "$$Poisson(\\mu,x)=\\frac{\\mu^xe^{-\\mu}}{x!}$$\n",
        "Where $\\mu$ is the average."
      ]
    },
    {
      "cell_type": "code",
      "metadata": {
        "id": "Ua1mwf3Ur0Vz",
        "colab_type": "code",
        "colab": {
          "base_uri": "https://localhost:8080/",
          "height": 316
        },
        "outputId": "164faf34-8b24-4ae3-cdd7-66231bde573b"
      },
      "source": [
        "from scipy.optimize import curve_fit\n",
        "from math import pi,exp\n",
        "from scipy.special import factorial\n",
        "def poisson(x,a,mu):\n",
        "    return a*(mu**x)*exp(-mu)/factorial(x)\n",
        "popt1,pcov1=curve_fit(poisson,list10,hist_y_10s,p0=[1,mean_10])\n",
        "x_fit=np.arange(60,130,1)\n",
        "plt.plot(x_fit,poisson(x_fit,*popt1))\n",
        "plt.plot(list10,hist_y_10s,\"ok\")\n",
        "print(\"Mean of the distribution is \",popt1[1],\"and constant multiple is: \",popt1[0])"
      ],
      "execution_count": 9,
      "outputs": [
        {
          "output_type": "stream",
          "text": [
            "Mean of the distribution is  93.56606658503387 and constant multiple is:  921.9708774705208\n"
          ],
          "name": "stdout"
        },
        {
          "output_type": "stream",
          "text": [
            "/usr/local/lib/python3.6/dist-packages/ipykernel_launcher.py:5: RuntimeWarning: overflow encountered in multiply\n",
            "  \"\"\"\n"
          ],
          "name": "stderr"
        },
        {
          "output_type": "display_data",
          "data": {
            "image/png": "[encoded data removed]",
            "text/plain": [
              "<Figure size 432x288 with 1 Axes>"
            ]
          },
          "metadata": {
            "tags": [],
            "needs_background": "light"
          }
        }
      ]
    },
    {
      "cell_type": "markdown",
      "metadata": {
        "id": "4-UtD0IxymWD",
        "colab_type": "text"
      },
      "source": [
        "So i have all the codes that i need for fitting gaussian and poisson. Now i will combine everything.\n"
      ]
    },
    {
      "cell_type": "code",
      "metadata": {
        "id": "jtR5dzcayxJX",
        "colab_type": "code",
        "colab": {
          "base_uri": "https://localhost:8080/",
          "height": 279
        },
        "outputId": "583840d6-b11f-457e-d160-1d932a165687"
      },
      "source": [
        "plt.bar(list10,hist_y_10s,width=10,yerr=hist_y_error_10s,edgecolor=\"black\",color=\"skyblue\")\n",
        "plt.yticks(hist_y_10s)\n",
        "plt.xlabel(\"Number of Counts in 10 seconds\")\n",
        "plt.ylabel(\"Repetation of Number of Counts\")\n",
        "plt.plot(x_fit,poisson(x_fit,*popt1),color=\"darkslategrey\",label=\"Poisson\")\n",
        "plt.plot(list10,hist_y_10s,\"ok\")\n",
        "plt.plot(x_fit,gauss(x_fit,*popt),label=\"Gaussian\",color=\"tomato\")\n",
        "plt.plot(list10,hist_y_10s,\"ok\")\n",
        "plt.legend()\n",
        "plt.savefig(\"10secs\")"
      ],
      "execution_count": 14,
      "outputs": [
        {
          "output_type": "display_data",
          "data": {
            "image/png": "[encoded data removed]",
            "text/plain": [
              "<Figure size 432x288 with 1 Axes>"
            ]
          },
          "metadata": {
            "tags": [],
            "needs_background": "light"
          }
        }
      ]
    },
    {
      "cell_type": "markdown",
      "metadata": {
        "id": "ZZYMZ1vhhcX-",
        "colab_type": "text"
      },
      "source": [
        "Next we need to find chi square between gaussian dist. and observed values also between poisson dist. and observed values.\n",
        "$$\\chi^2=\\sum{\\frac{(observed-expected)^2}{expected}}$$\n",
        "Here i used 7 bins on the bar chart so degree of freedom will be 7-1=6."
      ]
    },
    {
      "cell_type": "code",
      "metadata": {
        "id": "ZBLpe17inNyd",
        "colab_type": "code",
        "colab": {
          "base_uri": "https://localhost:8080/",
          "height": 51
        },
        "outputId": "5d5bfbb8-6468-4103-df57-1ae89f92da8e"
      },
      "source": [
        "#Gausian\n",
        "def gauss_y(x):\n",
        "    a=popt[0]\n",
        "    mu=popt[1]\n",
        "    sigma=popt[2]\n",
        "    return a*np.exp(-(x-mu)**2/(sigma)**2)/2*sigma*sqrt(2*pi)\n",
        "gauss_y(list10)"
      ],
      "execution_count": 11,
      "outputs": [
        {
          "output_type": "execute_result",
          "data": {
            "text/plain": [
              "array([ 0.23457948,  3.08593251, 16.33651938, 34.80241211, 29.83567463,\n",
              "       10.29293152,  1.4289565 ])"
            ]
          },
          "metadata": {
            "tags": []
          },
          "execution_count": 11
        }
      ]
    },
    {
      "cell_type": "code",
      "metadata": {
        "id": "cXhD5n7itKW2",
        "colab_type": "code",
        "colab": {
          "base_uri": "https://localhost:8080/",
          "height": 51
        },
        "outputId": "53c75e5f-acb7-421c-a356-a9777fe9bd6d"
      },
      "source": [
        "#Poisson\n",
        "def poisson_y(x):\n",
        "    a=popt1[0]\n",
        "    mu=popt1[1]\n",
        "    return a*(mu**x)*exp(-mu)/factorial(x)\n",
        "poisson_y(list10)"
      ],
      "execution_count": 12,
      "outputs": [
        {
          "output_type": "execute_result",
          "data": {
            "text/plain": [
              "array([ 0.0474699 ,  1.69578909, 14.59596714, 36.15834427, 29.60222783,\n",
              "        8.94528398,  1.0921987 ])"
            ]
          },
          "metadata": {
            "tags": []
          },
          "execution_count": 12
        }
      ]
    },
    {
      "cell_type": "code",
      "metadata": {
        "id": "DOUP4w3avB0b",
        "colab_type": "code",
        "colab": {
          "base_uri": "https://localhost:8080/",
          "height": 51
        },
        "outputId": "0c4f1ab1-a990-4ae0-ca25-4010f7f65348"
      },
      "source": [
        "#Poisson vs observed chi square\n",
        "chi_poisson_10s=np.sum((hist_y_10s-poisson_y(list10))**2/poisson_y(list10))\n",
        "#Gaussian vs observed chi square\n",
        "chi_gauss_10s=np.sum((hist_y_10s-gauss_y(list10))**2/gauss_y(list10))\n",
        "print(\"Chi square: Gauss vs observed\",chi_gauss_10s)\n",
        "print(\"Chi square: Poisson vs observed\",chi_poisson_10s)\n"
      ],
      "execution_count": 13,
      "outputs": [
        {
          "output_type": "stream",
          "text": [
            "Chi square: Gauss vs observed 11.874815183232514\n",
            "Chi square: Poisson vs observed 36.37467094071323\n"
          ],
          "name": "stdout"
        }
      ]
    },
    {
      "cell_type": "markdown",
      "metadata": {
        "id": "oyXEBxLHKcoz",
        "colab_type": "text"
      },
      "source": [
        "Now let's do the same calculations for the 1s data:"
      ]
    },
    {
      "cell_type": "code",
      "metadata": {
        "id": "3eRt1jvrKca8",
        "colab_type": "code",
        "colab": {
          "base_uri": "https://localhost:8080/",
          "height": 296
        },
        "outputId": "f237ac5b-ab16-4ae7-e7b6-3225cdcf5633"
      },
      "source": [
        "import matplotlib.pyplot as plt\n",
        "plt.bar(list1,hist_y_1s,width=2,yerr=hist_y_error_1s,edgecolor=\"black\")\n",
        "plt.yticks(hist_y_1s)\n",
        "plt.xlabel(\"Number of Counts in 1 seconds\")\n",
        "plt.ylabel(\"Repetation of Number of Counts\")\n"
      ],
      "execution_count": 17,
      "outputs": [
        {
          "output_type": "execute_result",
          "data": {
            "text/plain": [
              "Text(0, 0.5, 'Repetation of Number of Counts')"
            ]
          },
          "metadata": {
            "tags": []
          },
          "execution_count": 17
        },
        {
          "output_type": "display_data",
          "data": {
            "image/png": "[encoded data removed]",
            "text/plain": [
              "<Figure size 432x288 with 1 Axes>"
            ]
          },
          "metadata": {
            "tags": [],
            "needs_background": "light"
          }
        }
      ]
    },
    {
      "cell_type": "code",
      "metadata": {
        "id": "2F-WK72qLEEf",
        "colab_type": "code",
        "colab": {
          "base_uri": "https://localhost:8080/",
          "height": 313
        },
        "outputId": "e27c96e5-ab1e-4a55-fbcf-cdd89d73b964"
      },
      "source": [
        "from scipy.optimize import curve_fit\n",
        "from math import pi\n",
        "#Gauss fit for 1s data\n",
        "def gauss1(x,a,mu,sigma):\n",
        "    return a*np.exp(-(x-mu)**2/(sigma)**2)/2*sigma*sqrt(2*pi)\n",
        "popt,pcov=curve_fit(gauss1,list1,hist_y_1s,p0=[1,1,1])\n",
        "x_fit=np.arange(0,20,0.5)\n",
        "plt.plot(x_fit,gauss1(x_fit,*popt),color=\"tomato\",label=\"gaussian fit\")\n",
        "plt.plot(list1,hist_y_1s,\"ok\")\n",
        "#poisson \n",
        "def poisson1(x,a,mu):\n",
        "    return a*(mu**x)*exp(-mu)/factorial(x)\n",
        "popt1,pcov1=curve_fit(poisson1,list1,hist_y_1s,p0=[1,1])\n",
        "plt.plot(x_fit,poisson1(x_fit,*popt1),color=\"green\",label=\"poisson fit\")\n",
        "#bar chart\n",
        "plt.bar(list1,hist_y_1s,width=2,yerr=hist_y_error_1s,edgecolor=\"black\",color=\"skyblue\")\n",
        "plt.yticks(hist_y_1s)\n",
        "plt.xlabel(\"Number of Counts in 1 seconds\")\n",
        "plt.ylabel(\"Repetation of Number of Counts\")\n",
        "plt.legend()\n",
        "plt.savefig(\"1s data\")\n",
        "print(popt[:])\n",
        "print(popt1[:])"
      ],
      "execution_count": 33,
      "outputs": [
        {
          "output_type": "stream",
          "text": [
            "[12.10530224  5.13542569  6.16547577]\n",
            "[688.34490853   5.98725072]\n"
          ],
          "name": "stdout"
        },
        {
          "output_type": "display_data",
          "data": {
            "image/png": "[encoded data removed]",
            "text/plain": [
              "<Figure size 432x288 with 1 Axes>"
            ]
          },
          "metadata": {
            "tags": [],
            "needs_background": "light"
          }
        }
      ]
    },
    {
      "cell_type": "code",
      "metadata": {
        "id": "32V2HbWFOlDD",
        "colab_type": "code",
        "colab": {
          "base_uri": "https://localhost:8080/",
          "height": 51
        },
        "outputId": "5fb6bdec-3ba8-4cd4-888e-08bb7f5c654f"
      },
      "source": [
        "#Gausian\n",
        "def gauss_y1(x):\n",
        "    a=popt[0]\n",
        "    mu=popt[1]\n",
        "    sigma=popt[2]\n",
        "    return a*np.exp(-(x-mu)**2/(sigma)**2)/2*sigma*sqrt(2*pi)\n",
        "gauss_y1(list1)"
      ],
      "execution_count": 35,
      "outputs": [
        {
          "output_type": "execute_result",
          "data": {
            "text/plain": [
              "array([72.22466234, 90.42183804, 91.71961277, 75.37931128, 50.19300401,\n",
              "       27.07916591, 11.83664025,  4.19201362,  1.20286806,  0.27964971])"
            ]
          },
          "metadata": {
            "tags": []
          },
          "execution_count": 35
        }
      ]
    },
    {
      "cell_type": "code",
      "metadata": {
        "id": "6nB6MhtKOxaN",
        "colab_type": "code",
        "colab": {
          "base_uri": "https://localhost:8080/",
          "height": 51
        },
        "outputId": "7ff8636f-fc8e-4fa6-bd2c-2ca7e49e6ead"
      },
      "source": [
        "#Poisson\n",
        "def poisson_y1(x):\n",
        "    a=popt1[0]\n",
        "    mu=popt1[1]\n",
        "    return a*(mu**x)*exp(-mu)/factorial(x)\n",
        "poisson_y1(list10)"
      ],
      "execution_count": 36,
      "outputs": [
        {
          "output_type": "execute_result",
          "data": {
            "text/plain": [
              "array([8.93404226e-036, 3.67360338e-046, 3.63951932e-057, 1.03779222e-068,\n",
              "       9.77950776e-081, 3.40155467e-093, 4.78052619e-106])"
            ]
          },
          "metadata": {
            "tags": []
          },
          "execution_count": 36
        }
      ]
    },
    {
      "cell_type": "code",
      "metadata": {
        "id": "dftqY6KeO4aA",
        "colab_type": "code",
        "colab": {
          "base_uri": "https://localhost:8080/",
          "height": 51
        },
        "outputId": "f093bfae-7638-493a-e2b0-26abe85d12a6"
      },
      "source": [
        "#Poisson vs observed chi square\n",
        "chi_poisson_1s=np.sum((hist_y_1s-poisson_y(list1))**2/poisson_y1(list1))\n",
        "#Gaussian vs observed chi square\n",
        "chi_gauss_1s=np.sum((hist_y_1s-gauss_y(list1))**2/gauss_y1(list1))\n",
        "print(\"Chi square: Gauss vs observed\",chi_gauss_1s)\n",
        "print(\"Chi square: Poisson vs observed\",chi_poisson_1s)"
      ],
      "execution_count": 37,
      "outputs": [
        {
          "output_type": "stream",
          "text": [
            "Chi square: Gauss vs observed 2.9548910776827944\n",
            "Chi square: Poisson vs observed 663.6970769664168\n"
          ],
          "name": "stdout"
        }
      ]
    }
  ]
}