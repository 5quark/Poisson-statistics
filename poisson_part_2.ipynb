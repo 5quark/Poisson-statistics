{
  "nbformat": 4,
  "nbformat_minor": 0,
  "metadata": {
    "colab": {
      "name": "poisson part 2.ipynb",
      "provenance": [],
      "authorship_tag": "ABX9TyP/59UZE09wFAQEEuuWIbLH",
      "include_colab_link": true
    },
    "kernelspec": {
      "name": "python3",
      "display_name": "Python 3"
    }
  },
  "cells": [
    {
      "cell_type": "markdown",
      "metadata": {
        "id": "view-in-github",
        "colab_type": "text"
      },
      "source": [
        "<a href=\"https://colab.research.google.com/github/5quark/Poisson-statistics/blob/master/poisson_part_2.ipynb\" target=\"_parent\"><img src=\"https://colab.research.google.com/assets/colab-badge.svg\" alt=\"Open In Colab\"/></a>"
      ]
    },
    {
      "cell_type": "code",
      "metadata": {
        "id": "hSvHTWvzIJUl",
        "colab_type": "code",
        "colab": {
          "base_uri": "https://localhost:8080/",
          "height": 238
        },
        "outputId": "e7743607-09c5-4700-d12b-d2999149ff86"
      },
      "source": [
        "import pandas as pd\n",
        "import numpy as np\n",
        "data_frame=pd.read_excel(\"time intervals in cm.xlsx\")\n",
        "in_cm=data_frame[\"Time intervals between adjacent pulses (in cm)\"].to_numpy()\n",
        "np.sort(in_cm)"
      ],
      "execution_count": null,
      "outputs": [
        {
          "output_type": "execute_result",
          "data": {
            "text/plain": [
              "array([0.1, 0.1, 0.1, 0.1, 0.1, 0.1, 0.1, 0.1, 0.2, 0.2, 0.2, 0.2, 0.2,\n",
              "       0.2, 0.2, 0.2, 0.2, 0.3, 0.3, 0.3, 0.3, 0.3, 0.3, 0.3, 0.3, 0.3,\n",
              "       0.3, 0.3, 0.3, 0.4, 0.4, 0.4, 0.4, 0.4, 0.4, 0.4, 0.4, 0.4, 0.4,\n",
              "       0.4, 0.5, 0.5, 0.5, 0.5, 0.5, 0.5, 0.5, 0.5, 0.5, 0.5, 0.5, 0.5,\n",
              "       0.5, 0.5, 0.6, 0.6, 0.6, 0.6, 0.6, 0.6, 0.6, 0.6, 0.6, 0.6, 0.6,\n",
              "       0.6, 0.6, 0.7, 0.7, 0.7, 0.7, 0.7, 0.7, 0.7, 0.8, 0.8, 0.8, 0.8,\n",
              "       0.8, 0.8, 0.8, 0.8, 0.8, 0.9, 0.9, 0.9, 0.9, 0.9, 0.9, 0.9, 0.9,\n",
              "       1. , 1. , 1.1, 1.1, 1.1, 1.1, 1.1, 1.1, 1.1, 1.2, 1.2, 1.2, 1.2,\n",
              "       1.2, 1.2, 1.2, 1.2, 1.3, 1.3, 1.3, 1.4, 1.4, 1.4, 1.5, 1.5, 1.5,\n",
              "       1.5, 1.7, 1.7, 1.7, 1.8, 1.8, 1.8, 1.9, 1.9, 1.9, 1.9, 1.9, 2. ,\n",
              "       2. , 2. , 2. , 2. , 2. , 2.1, 2.1, 2.1, 2.2, 2.2, 2.2, 2.2, 2.3,\n",
              "       2.3, 2.3, 2.4, 2.6, 2.7, 2.8, 2.8, 2.8, 2.8, 3. , 3. , 3.1, 3.3,\n",
              "       3.4, 3.5, 3.6, 3.9, 4.2, 5.3, 5.6, 7.7])"
            ]
          },
          "metadata": {
            "tags": []
          },
          "execution_count": 6
        }
      ]
    },
    {
      "cell_type": "code",
      "metadata": {
        "id": "T0EN8PmcbgBN",
        "colab_type": "code",
        "colab": {}
      },
      "source": [
        "list_x=np.array([0.01, 1., 2., 3., 4., 5., 6., 7.])"
      ],
      "execution_count": null,
      "outputs": []
    },
    {
      "cell_type": "code",
      "metadata": {
        "id": "EkwM1J-1c89O",
        "colab_type": "code",
        "colab": {
          "base_uri": "https://localhost:8080/",
          "height": 34
        },
        "outputId": "47ec505c-fc8e-4ea1-eab9-9878b4d996a6"
      },
      "source": [
        "hist_y=[]\n",
        "for i in list_x:\n",
        "    hist_y.append(np.sum((in_cm<i+0.5)&(i<=in_cm)))\n",
        "print(hist_y)"
      ],
      "execution_count": null,
      "outputs": [
        {
          "output_type": "stream",
          "text": [
            "[54, 23, 17, 5, 1, 1, 0, 0]\n"
          ],
          "name": "stdout"
        }
      ]
    },
    {
      "cell_type": "code",
      "metadata": {
        "id": "lwqSn0zagpsK",
        "colab_type": "code",
        "colab": {
          "base_uri": "https://localhost:8080/",
          "height": 282
        },
        "outputId": "447ebe79-de30-4520-e52f-dd40dc1793d2"
      },
      "source": [
        "from matplotlib import pyplot as plt \n",
        "plt.bar(list_x,hist_y,edgecolor=\"black\",width=1)"
      ],
      "execution_count": null,
      "outputs": [
        {
          "output_type": "execute_result",
          "data": {
            "text/plain": [
              "<BarContainer object of 8 artists>"
            ]
          },
          "metadata": {
            "tags": []
          },
          "execution_count": 54
        },
        {
          "output_type": "display_data",
          "data": {
            "image/png": "[encoded data removed]",
            "text/plain": [
              "<Figure size 432x288 with 1 Axes>"
            ]
          },
          "metadata": {
            "tags": [],
            "needs_background": "light"
          }
        }
      ]
    },
    {
      "cell_type": "markdown",
      "metadata": {
        "id": "4IMDXzRh3Mum",
        "colab_type": "text"
      },
      "source": [
        "n=0\n",
        "$$P(1,t)=e^{-\\alpha.t}\\alpha.$$ Here i will take t as x. More generally i can take it as:\n",
        "$$=Ce^{-\\alpha.t}.$$ Where C is a constant.\n"
      ]
    },
    {
      "cell_type": "code",
      "metadata": {
        "id": "d8ioRttU3684",
        "colab_type": "code",
        "colab": {
          "base_uri": "https://localhost:8080/",
          "height": 282
        },
        "outputId": "0dde5e30-b669-4281-a15a-abbd59095609"
      },
      "source": [
        "from scipy.optimize import curve_fit\n",
        "from math import pi,exp\n",
        "from scipy.special import factorial\n",
        "def poisson(x,a,sigma):\n",
        "    return a*np.exp(-sigma*x)\n",
        "popt1,pcov1=curve_fit(poisson,list_x,hist_y,p0=[1,1])\n",
        "x_fit=np.arange(0,8,0.1)\n",
        "plt.plot(x_fit,poisson(x_fit,*popt1),color=\"tomato\",label=\"the fit when n=0\")\n",
        "plt.plot(list_x,hist_y,\"ok\")\n",
        "plt.bar(list_x,hist_y,edgecolor=\"black\",width=1,color=\"skyblue\")\n",
        "plt.legend()\n",
        "plt.savefig(\"fit in cm\")\n",
        "print(popt1[:])"
      ],
      "execution_count": 86,
      "outputs": [
        {
          "output_type": "stream",
          "text": [
            "[53.89780639  0.7364929 ]\n"
          ],
          "name": "stdout"
        },
        {
          "output_type": "display_data",
          "data": {
            "image/png": "[encoded data removed]",
            "text/plain": [
              "<Figure size 432x288 with 1 Axes>"
            ]
          },
          "metadata": {
            "tags": [],
            "needs_background": "light"
          }
        }
      ]
    }
  ]
}